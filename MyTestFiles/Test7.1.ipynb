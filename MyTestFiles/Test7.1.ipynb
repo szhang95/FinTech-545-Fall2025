{
 "cells": [
  {
   "cell_type": "code",
   "id": "initial_id",
   "metadata": {
    "collapsed": true,
    "ExecuteTime": {
     "end_time": "2025-09-13T09:16:46.407468Z",
     "start_time": "2025-09-13T09:16:46.310177Z"
    }
   },
   "source": [
    "import numpy as np\n",
    "import pandas as pd\n",
    "from pathlib import Path\n",
    "\n",
    "def fit_normal(x):\n",
    "    \"\"\"\n",
    "    Fit a Normal(mu, sigma) with MLE.\n",
    "    - Removes NaNs\n",
    "    - sigma uses ddof=0 (population std, i.e., MLE)\n",
    "    \"\"\"\n",
    "    arr = np.asarray(x, dtype=float).ravel()\n",
    "    arr = arr[~np.isnan(arr)]\n",
    "    if arr.size == 0:\n",
    "        raise ValueError(\"No numeric data to fit.\")\n",
    "    mu = float(arr.mean())\n",
    "    sigma = float(arr.std(ddof=1))  # Bessel correction\n",
    "    return mu, sigma\n",
    "\n",
    "# input the data and give output\n",
    "DATA_DIR = Path.cwd() / \"testfiles_\" / \"data\"\n",
    "df = pd.read_csv(DATA_DIR / \"test7_1.csv\")\n",
    "\n",
    "col = df.select_dtypes(include=[np.number]).columns[0]\n",
    "mu, sigma = fit_normal(df[col])\n",
    "\n",
    "print(f\"mu:{mu:.10f},sigma:{sigma:.10f}\")"
   ],
   "outputs": [
    {
     "name": "stdout",
     "output_type": "stream",
     "text": [
      "mu:0.0460257365,sigma:0.0467799396\n"
     ]
    }
   ],
   "execution_count": 7
  }
 ],
 "metadata": {
  "kernelspec": {
   "display_name": "Python 3",
   "language": "python",
   "name": "python3"
  },
  "language_info": {
   "codemirror_mode": {
    "name": "ipython",
    "version": 2
   },
   "file_extension": ".py",
   "mimetype": "text/x-python",
   "name": "python",
   "nbconvert_exporter": "python",
   "pygments_lexer": "ipython2",
   "version": "2.7.6"
  }
 },
 "nbformat": 4,
 "nbformat_minor": 5
}
