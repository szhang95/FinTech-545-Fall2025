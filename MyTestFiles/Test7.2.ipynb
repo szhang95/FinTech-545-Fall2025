{
 "cells": [
  {
   "cell_type": "code",
   "id": "initial_id",
   "metadata": {
    "collapsed": true,
    "ExecuteTime": {
     "end_time": "2025-09-13T09:17:06.235144Z",
     "start_time": "2025-09-13T09:17:06.090078Z"
    }
   },
   "source": [
    "import numpy as np\n",
    "import pandas as pd\n",
    "from pathlib import Path\n",
    "from scipy import stats\n",
    "\n",
    "def fit_t(x):\n",
    "    \"\"\"Fit a Student-t distribution via MLE. Returns (mu, sigma, nu).\"\"\"\n",
    "    arr = np.asarray(x, dtype=float).ravel()\n",
    "    arr = arr[np.isfinite(arr)]\n",
    "    if arr.size < 2:\n",
    "        raise ValueError(\"Not enough data to fit t distribution.\")\n",
    "    nu, mu, sigma = stats.t.fit(arr)\n",
    "    return float(mu), float(sigma), float(nu)\n",
    "\n",
    "# Read data and give output\n",
    "DATA_DIR = Path.cwd() / \"testfiles_\" / \"data\"\n",
    "df = pd.read_csv(DATA_DIR / \"test7_2.csv\")\n",
    "col = df.select_dtypes(include=[np.number]).columns[0]\n",
    "\n",
    "mu, sigma, nu = fit_t(df[col])\n",
    "print(f\"mu:{mu:.17f},sigma:{sigma:.17f},nu:{nu:.17f}\")"
   ],
   "outputs": [
    {
     "name": "stdout",
     "output_type": "stream",
     "text": [
      "mu:0.04594038004735414,sigma:0.04544287220830122,nu:6.33686699730861314\n"
     ]
    }
   ],
   "execution_count": 5
  }
 ],
 "metadata": {
  "kernelspec": {
   "display_name": "Python 3",
   "language": "python",
   "name": "python3"
  },
  "language_info": {
   "codemirror_mode": {
    "name": "ipython",
    "version": 2
   },
   "file_extension": ".py",
   "mimetype": "text/x-python",
   "name": "python",
   "nbconvert_exporter": "python",
   "pygments_lexer": "ipython2",
   "version": "2.7.6"
  }
 },
 "nbformat": 4,
 "nbformat_minor": 5
}
